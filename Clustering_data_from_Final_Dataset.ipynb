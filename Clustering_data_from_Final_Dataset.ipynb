{
 "cells": [
  {
   "cell_type": "code",
   "execution_count": 1,
   "metadata": {},
   "outputs": [
    {
     "data": {
      "text/html": [
       "<div>\n",
       "<style>\n",
       "    .dataframe thead tr:only-child th {\n",
       "        text-align: right;\n",
       "    }\n",
       "\n",
       "    .dataframe thead th {\n",
       "        text-align: left;\n",
       "    }\n",
       "\n",
       "    .dataframe tbody tr th {\n",
       "        vertical-align: top;\n",
       "    }\n",
       "</style>\n",
       "<table border=\"1\" class=\"dataframe\">\n",
       "  <thead>\n",
       "    <tr style=\"text-align: right;\">\n",
       "      <th></th>\n",
       "      <th>Unnamed: 0</th>\n",
       "      <th>Ranked Number (AKC)</th>\n",
       "      <th>Breed Name</th>\n",
       "      <th>Breed Class (AKC)</th>\n",
       "      <th>PuppyBowl_Number Contestants (Last 5 Years)</th>\n",
       "      <th>Westminster (all time)</th>\n",
       "      <th>KnowYourMeme</th>\n",
       "      <th>Wiki_Path</th>\n",
       "      <th>Wiki_Num_Page</th>\n",
       "      <th>Wiki_Wordcount</th>\n",
       "    </tr>\n",
       "  </thead>\n",
       "  <tbody>\n",
       "    <tr>\n",
       "      <th>0</th>\n",
       "      <td>0</td>\n",
       "      <td>1</td>\n",
       "      <td>Retriever (Labrador)</td>\n",
       "      <td>Sporting</td>\n",
       "      <td>11</td>\n",
       "      <td>0</td>\n",
       "      <td>1</td>\n",
       "      <td>labresults.json</td>\n",
       "      <td>10</td>\n",
       "      <td>8834</td>\n",
       "    </tr>\n",
       "    <tr>\n",
       "      <th>1</th>\n",
       "      <td>1</td>\n",
       "      <td>2</td>\n",
       "      <td>German Shepherd Dogs</td>\n",
       "      <td>Herding/Guardian</td>\n",
       "      <td>4</td>\n",
       "      <td>2</td>\n",
       "      <td>0</td>\n",
       "      <td>germanshepresults.json</td>\n",
       "      <td>15</td>\n",
       "      <td>16449</td>\n",
       "    </tr>\n",
       "    <tr>\n",
       "      <th>2</th>\n",
       "      <td>2</td>\n",
       "      <td>3</td>\n",
       "      <td>Retrievers (Golden)</td>\n",
       "      <td>Sporting</td>\n",
       "      <td>1</td>\n",
       "      <td>0</td>\n",
       "      <td>2</td>\n",
       "      <td>goldenretresults.json</td>\n",
       "      <td>17</td>\n",
       "      <td>22060</td>\n",
       "    </tr>\n",
       "    <tr>\n",
       "      <th>3</th>\n",
       "      <td>3</td>\n",
       "      <td>5</td>\n",
       "      <td>Bulldogs</td>\n",
       "      <td>Non-sporting</td>\n",
       "      <td>2</td>\n",
       "      <td>2</td>\n",
       "      <td>0</td>\n",
       "      <td>bulldogresults.json</td>\n",
       "      <td>6</td>\n",
       "      <td>5067</td>\n",
       "    </tr>\n",
       "    <tr>\n",
       "      <th>4</th>\n",
       "      <td>4</td>\n",
       "      <td>6</td>\n",
       "      <td>Beagles</td>\n",
       "      <td>Hound</td>\n",
       "      <td>3</td>\n",
       "      <td>2</td>\n",
       "      <td>0</td>\n",
       "      <td>beagleresults.json</td>\n",
       "      <td>19</td>\n",
       "      <td>48701</td>\n",
       "    </tr>\n",
       "  </tbody>\n",
       "</table>\n",
       "</div>"
      ],
      "text/plain": [
       "   Unnamed: 0  Ranked Number (AKC)            Breed Name Breed Class (AKC)  \\\n",
       "0           0                    1  Retriever (Labrador)          Sporting   \n",
       "1           1                    2  German Shepherd Dogs  Herding/Guardian   \n",
       "2           2                    3   Retrievers (Golden)          Sporting   \n",
       "3           3                    5              Bulldogs      Non-sporting   \n",
       "4           4                    6               Beagles             Hound   \n",
       "\n",
       "   PuppyBowl_Number Contestants (Last 5 Years)  Westminster (all time)  \\\n",
       "0                                           11                       0   \n",
       "1                                            4                       2   \n",
       "2                                            1                       0   \n",
       "3                                            2                       2   \n",
       "4                                            3                       2   \n",
       "\n",
       "   KnowYourMeme               Wiki_Path  Wiki_Num_Page  Wiki_Wordcount  \n",
       "0             1         labresults.json             10            8834  \n",
       "1             0  germanshepresults.json             15           16449  \n",
       "2             2   goldenretresults.json             17           22060  \n",
       "3             0     bulldogresults.json              6            5067  \n",
       "4             0      beagleresults.json             19           48701  "
      ]
     },
     "execution_count": 1,
     "metadata": {},
     "output_type": "execute_result"
    }
   ],
   "source": [
    "import pandas as pd\n",
    "import csv\n",
    "\n",
    "final = pd.read_csv(\"final_dog_dataset.csv\")\n",
    "final.head()"
   ]
  },
  {
   "cell_type": "markdown",
   "metadata": {},
   "source": [
    "First, I was interested in how many separate breeds belonged to different classes. By using the built-in function \".groupby\" and then \".count\", I was able to select the different AKC breed classes and return a count of how many breed names were in each class."
   ]
  },
  {
   "cell_type": "code",
   "execution_count": 2,
   "metadata": {},
   "outputs": [
    {
     "data": {
      "text/plain": [
       "Breed Class (AKC)\n",
       "Herding                   2\n",
       "Herding/Guardian          1\n",
       "Hound                     1\n",
       "Non-sporting              3\n",
       "Sporting                  4\n",
       "Standard/Miniature/Toy    1\n",
       "Terrier                   1\n",
       "Toy                       8\n",
       "Working                   3\n",
       "Name: Breed Name, dtype: int64"
      ]
     },
     "execution_count": 2,
     "metadata": {},
     "output_type": "execute_result"
    }
   ],
   "source": [
    "breed_class = final.groupby(\"Breed Class (AKC)\")['Breed Name'].count()\n",
    "breed_class"
   ]
  },
  {
   "cell_type": "markdown",
   "metadata": {},
   "source": [
    "As a second comparison, also using .groupby, I was curious how many Wikipedia pages were associated with each AKC breed class. Using another built-in function of \".sum\", I was able to produce the following results:"
   ]
  },
  {
   "cell_type": "code",
   "execution_count": 3,
   "metadata": {},
   "outputs": [
    {
     "data": {
      "text/plain": [
       "Breed Class (AKC)\n",
       "Herding                    9\n",
       "Herding/Guardian          15\n",
       "Hound                     19\n",
       "Non-sporting              13\n",
       "Sporting                  34\n",
       "Standard/Miniature/Toy     8\n",
       "Terrier                    1\n",
       "Toy                       31\n",
       "Working                    9\n",
       "Name: Wiki_Num_Page, dtype: int64"
      ]
     },
     "execution_count": 3,
     "metadata": {},
     "output_type": "execute_result"
    }
   ],
   "source": [
    "class_per_page = final.groupby(\"Breed Class (AKC)\")['Wiki_Num_Page'].sum()\n",
    "class_per_page"
   ]
  },
  {
   "cell_type": "markdown",
   "metadata": {},
   "source": [
    "I experimented for a bit using matplotlib but found that I was low on time and needed longer to experiment to fully understand how to use the code. Instead, I copied this data into Excel (\"clusteringdata_excelPlots.xlsx\") and produced graphs in that manner."
   ]
  }
 ],
 "metadata": {
  "kernelspec": {
   "display_name": "Python 3",
   "language": "python",
   "name": "python3"
  },
  "language_info": {
   "codemirror_mode": {
    "name": "ipython",
    "version": 3
   },
   "file_extension": ".py",
   "mimetype": "text/x-python",
   "name": "python",
   "nbconvert_exporter": "python",
   "pygments_lexer": "ipython3",
   "version": "3.6.1"
  }
 },
 "nbformat": 4,
 "nbformat_minor": 2
}
